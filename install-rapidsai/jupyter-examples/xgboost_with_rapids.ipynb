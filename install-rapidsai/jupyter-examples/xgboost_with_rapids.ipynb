{
 "cells": [
  {
   "cell_type": "code",
   "execution_count": null,
   "id": "337ff83f-12ce-4c77-8d14-406f8bc8800a",
   "metadata": {},
   "outputs": [],
   "source": [
    "from dask.distributed import Client\n",
    "import os\n",
    "scheduler = \"<SCHEDULER_EXTERNAL_IP>\"\n",
    "client = Client(f\"{scheduler}:8786\")\n",
    "client.restart()"
   ]
  },
  {
   "cell_type": "code",
   "execution_count": null,
   "id": "543a342e-e8af-4a71-a4d9-2d8c373a3249",
   "metadata": {},
   "outputs": [],
   "source": [
    "%%time\n",
    "\n",
    "dir = \"/ml-share/taxi-csv\"\n",
    "files = [os.path.join(dir,x) for x in os.listdir(dir)\n",
    "         if 'yellow' in x and ('2019'in x or '2018' in x or '2017' in x)]\n",
    "\n",
    "\n",
    "cols = ['VendorID', 'tpep_pickup_datetime', 'tpep_dropoff_datetime',\n",
    "        'passenger_count', 'trip_distance','RatecodeID', \n",
    "        'store_and_fwd_flag', 'PULocationID', 'DOLocationID', \n",
    "        'payment_type', 'fare_amount','extra', 'mta_tax', \n",
    "        'tip_amount', 'tolls_amount', 'improvement_surcharge', 'total_amount']\n",
    "\n",
    "from dask import dataframe as dd\n",
    "import dask_cudf\n",
    "taxi = dd.read_csv(files, \n",
    "                          assume_missing=True,\n",
    "                          parse_dates=[1,2], \n",
    "                          usecols=cols)"
   ]
  },
  {
   "cell_type": "code",
   "execution_count": null,
   "id": "f1aa1d2d-2cc6-440c-9928-2576a098ebe0",
   "metadata": {},
   "outputs": [],
   "source": [
    "features = ['pickup_weekday', 'pickup_hour', 'pickup_minute',\n",
    "            'pickup_week_hour', 'passenger_count', 'VendorID', \n",
    "            'RatecodeID', 'store_and_fwd_flag', 'PULocationID', \n",
    "            'DOLocationID']"
   ]
  },
  {
   "cell_type": "code",
   "execution_count": null,
   "id": "b3d8aa52-1a35-4337-962d-33da146c8a95",
   "metadata": {},
   "outputs": [],
   "source": [
    "%%time\n",
    "\n",
    "from dask import persist\n",
    "from dask.distributed import wait\n",
    "\n",
    "taxi['pickup_weekday'] = taxi.tpep_pickup_datetime.dt.weekday\n",
    "taxi['pickup_hour'] = taxi.tpep_pickup_datetime.dt.hour\n",
    "taxi['pickup_minute'] = taxi.tpep_pickup_datetime.dt.minute\n",
    "taxi['pickup_week_hour'] = (taxi.pickup_weekday * 24) + taxi.pickup_hour\n",
    "taxi['store_and_fwd_flag'] = (taxi.store_and_fwd_flag == 'Y').astype(float)\n",
    "#taxi = taxi.fillna(-1)\n",
    "taxi = taxi.dropna()\n",
    "taxi = taxi[taxi[\"fare_amount\"] > 0]\n",
    "taxi = taxi[taxi[\"total_amount\"] > 0]\n",
    "taxi = taxi[taxi['passenger_count'] > 0]\n",
    "\n",
    "X = taxi[features].astype('float32')\n",
    "y = taxi['total_amount'].astype('float32')\n",
    "\n",
    "X, y = persist(X, y)\n",
    "_ = wait([X, y])"
   ]
  },
  {
   "cell_type": "code",
   "execution_count": null,
   "id": "fd4f1b9d-4e2e-4123-8656-b4b988788200",
   "metadata": {},
   "outputs": [],
   "source": [
    "%%time\n",
    "\n",
    "from dask_ml.model_selection import train_test_split\n",
    "X_train, X_test, y_train, y_test = train_test_split(X, y, test_size=.25, shuffle=True)\n",
    "\n",
    "X_train, X_test, y_train, y_test = persist(X_train, X_test, y_train, y_test)\n",
    "_ = wait([X_train, X_test, y_train, y_test])"
   ]
  },
  {
   "cell_type": "code",
   "execution_count": null,
   "id": "39cb256f-ff09-441a-bb28-2f8b5a811612",
   "metadata": {},
   "outputs": [],
   "source": [
    "%%time\n",
    "\n",
    "import xgboost as xgb\n",
    "\n",
    "dtrain = xgb.dask.DaskDMatrix(client, X_train, y_train)\n",
    "output = xgb.dask.train(\n",
    "        client,\n",
    "        {\"verbosity\": 3, \n",
    "#         \"tree_method\":'gpu_hist', \n",
    "         \"tree_method\": 'hist',\n",
    "#         \"gpu_id\": 0,\n",
    "         \"objective\": \"reg:squarederror\",\n",
    "         \"nthread\": 7,\n",
    "         \"n_jobs\": -1,\n",
    "         \"n_estimators\": 100,\n",
    "         \"random_state\": 42 },\n",
    "        dtrain,\n",
    "        num_boost_round=50,\n",
    "        evals=[(dtrain, \"train\")],\n",
    "    )\n",
    "                     "
   ]
  },
  {
   "cell_type": "code",
   "execution_count": null,
   "id": "f6ab6871-63cd-4c2a-a263-aabf85991c5f",
   "metadata": {},
   "outputs": [],
   "source": [
    "%%time\n",
    "\n",
    "y_pred = xgb.dask.predict(client, output, X_test)"
   ]
  },
  {
   "cell_type": "code",
   "execution_count": null,
   "id": "8aac42d1-3820-47eb-8bb9-6af091e106f4",
   "metadata": {},
   "outputs": [],
   "source": [
    "%%time\n",
    "\n",
    "pred = y_pred.compute()#.to_array()\n",
    "gt = y_test.compute().to_array()\n",
    "import numpy as np\n",
    "from sklearn import metrics\n",
    "\n",
    "print('Mean Absolute Error (MAE):', metrics.mean_absolute_error(gt, pred))\n",
    "print('Mean Squared Error (MSE):', metrics.mean_squared_error(gt, pred))\n",
    "print('Root Mean Squared Error (RMSE):', np.sqrt(metrics.mean_squared_error(gt, pred)))\n",
    "mape = np.mean(np.abs((gt - pred) / np.abs(gt)))\n",
    "print('Mean Absolute Percentage Error (MAPE):', round(mape * 100, 2))\n",
    "print('Accuracy:', round(100*(1 - mape), 2))    "
   ]
  },
  {
   "cell_type": "code",
   "execution_count": null,
   "id": "3ed4821e-d644-4104-bc7e-3d011dfb5a4f",
   "metadata": {},
   "outputs": [],
   "source": [
    "%%time\n",
    "\n",
    "del X_train, X_test, y_test, y_train, y_pred, taxi"
   ]
  },
  {
   "cell_type": "code",
   "execution_count": null,
   "id": "0bc1ac2e-6794-4bb8-973c-637c2fdeb5a8",
   "metadata": {},
   "outputs": [],
   "source": []
  }
 ],
 "metadata": {
  "kernelspec": {
   "display_name": "Python 3",
   "language": "python",
   "name": "python3"
  },
  "language_info": {
   "codemirror_mode": {
    "name": "ipython",
    "version": 3
   },
   "file_extension": ".py",
   "mimetype": "text/x-python",
   "name": "python",
   "nbconvert_exporter": "python",
   "pygments_lexer": "ipython3",
   "version": "3.7.10"
  }
 },
 "nbformat": 4,
 "nbformat_minor": 5
}
